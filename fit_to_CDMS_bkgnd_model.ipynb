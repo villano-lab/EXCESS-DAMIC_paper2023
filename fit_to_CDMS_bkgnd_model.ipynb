{
 "cells": [
  {
   "cell_type": "code",
   "execution_count": 1,
   "id": "181bdcdf-4632-4a86-9d59-8a21ae2fa5e1",
   "metadata": {},
   "outputs": [],
   "source": [
    "import sys\n",
    "sys.path.append('../python/')\n",
    "\n",
    "#matplotlib for plotting\n",
    "import matplotlib as mpl\n",
    "from matplotlib import pyplot as plt\n",
    "import lmfit as lm\n",
    "\n",
    "#other computational libraries\n",
    "import numpy as np"
   ]
  },
  {
   "cell_type": "code",
   "execution_count": 4,
   "id": "ff485a29-d481-4d96-b003-3f180a2c6a9d",
   "metadata": {},
   "outputs": [
    {
     "name": "stdout",
     "output_type": "stream",
     "text": [
      "   Energy     Sig\n",
      "0  0.0681  0.3324\n",
      "1  0.0571  0.5792\n",
      "2  0.0715  0.6575\n",
      "3  0.0936  0.7235\n",
      "4  0.0914  0.5451\n",
      "5  0.1102  0.3667\n",
      "6  0.1297  0.6479\n",
      "7  0.1395  0.7603\n",
      "8  0.1479  0.6992\n",
      "9  0.1623  0.7187\n",
      "[0.0681 0.0571 0.0715 0.0936 0.0914 0.1102 0.1297 0.1395 0.1479 0.1623\n",
      " 0.1995 0.2178 0.2315 0.2583 0.3039 0.5218 0.6258 0.712  0.8869 0.8401]\n"
     ]
    }
   ],
   "source": [
    "import pandas as pds\n",
    "\n",
    "\n",
    "damic_data = pds.read_csv(\"data/DAMIC_EXCESS_sigvE_good_update.txt\", skiprows=1, \\\n",
    "                         names=['Energy', 'Sig'], \\\n",
    "                         delim_whitespace=False\n",
    "                     )\n",
    "\n",
    "print (damic_data.head(10))\n",
    "\n",
    "E = np.asarray(damic_data[\"Energy\"], dtype=np.float32)\n",
    "\n",
    "print (E)\n",
    "\n",
    "#make histos (counts per day) \n",
    "\n",
    "ebins = np.linspace(0,1,21)\n",
    "xcq = (ebins[:-1] + ebins[1:]) / 2\n",
    "n,nx = np.histogram(E,bins=ebins)\n",
    "\n",
    "#get the correct errors\n",
    "error1 = [0.00,0.37,0.74,1.10,2.34,2.75,3.82,4.25,5.30,6.33,6.78,7.81,8.83,9.28]\n",
    "error2 = [1.29,2.75,4.25,5.30,6.78,7.81,9.28,10.30,11.32,12.79,13.81,14.82,16.29,17.30]\n",
    "ntot = n\n",
    "ntot_plus = np.zeros(np.shape(ntot))\n",
    "ntot_minus = np.zeros(np.shape(ntot))\n",
    "for i,ncount in enumerate(ntot):\n",
    "    if ncount<=13:\n",
    "        ntot_plus[i] = error2[ncount]-ncount\n",
    "        ntot_minus[i] = ncount-error1[ncount]\n",
    "    else:\n",
    "        ntot_plus[i] = np.sqrt(ncount)\n",
    "        ntot_minus[i] = np.sqrt(ncount)"
   ]
  },
  {
   "cell_type": "code",
   "execution_count": null,
   "id": "5c37edd8-9501-4562-a74e-55e8cc01ffbd",
   "metadata": {},
   "outputs": [],
   "source": [
    "#CDMS thermal neutron capture background model function\n",
    "def function(t, tstop, alpha, B):\n",
    "    return(4000*((1/(1+B))*np.exp(-t/alpha)/(alpha*(1-np.exp(-tstop/alpha)))+(B)/tstop))\n",
    "#nevermind wrong function replace next time future bugs\n"
   ]
  }
 ],
 "metadata": {
  "kernelspec": {
   "display_name": "Python 3 (ipykernel)",
   "language": "python",
   "name": "python3"
  },
  "language_info": {
   "codemirror_mode": {
    "name": "ipython",
    "version": 3
   },
   "file_extension": ".py",
   "mimetype": "text/x-python",
   "name": "python",
   "nbconvert_exporter": "python",
   "pygments_lexer": "ipython3",
   "version": "3.9.12"
  }
 },
 "nbformat": 4,
 "nbformat_minor": 5
}
